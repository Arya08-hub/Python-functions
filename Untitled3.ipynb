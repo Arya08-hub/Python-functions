{
 "cells": [
  {
   "cell_type": "code",
   "execution_count": 5,
   "id": "16e5559a-8eaf-4b9a-805b-73dd34a0b1e0",
   "metadata": {},
   "outputs": [
    {
     "ename": "SyntaxError",
     "evalue": "unterminated string literal (detected at line 41) (4013777657.py, line 41)",
     "output_type": "error",
     "traceback": [
      "\u001b[0;36m  Cell \u001b[0;32mIn[5], line 41\u001b[0;36m\u001b[0m\n\u001b[0;31m    print(\"Area with default width:\", calculate_area(10))\")\u001b[0m\n\u001b[0m                                                         ^\u001b[0m\n\u001b[0;31mSyntaxError\u001b[0m\u001b[0;31m:\u001b[0m unterminated string literal (detected at line 41)\n"
     ]
    }
   ],
   "source": [
    "my_list = [1, 2, 3, 4, 5]\n",
    "print(\"Length of the list:\", len(my_list))\n",
    "\n",
    "\n",
    "def greet(name):\n",
    "    print(f\"Hello, {name}!\")\n",
    "\n",
    "greet(\"Alice\")\n",
    "\n",
    "\n",
    "def find_maximum(numbers):\n",
    "    if not numbers:\n",
    "        return None\n",
    "    max_num = numbers[0]\n",
    "    for num in numbers[1:]:\n",
    "        if num > max_num:\n",
    "            max_num = num\n",
    "    return max_num\n",
    "\n",
    "numbers = [3, 5, 7, 2, 8]\n",
    "print(\"Maximum value:\", find_maximum(numbers))\n",
    "\n",
    "\n",
    "x = 10  # Global variable\n",
    "\n",
    "def demonstrate_scope():\n",
    "    x = 5  # Local variable\n",
    "    print(\"Inside function, x (local):\", x)\n",
    "\n",
    "demonstrate_scope()\n",
    "print(\"Outside function, x (global):\", x)\n",
    "\n",
    "\n",
    "def calculate_area(length, width=5):\n",
    "    return length * width\n",
    "\n",
    "\n",
    "print(\"Area with both arguments:\", calculate_area(10, 7))\n",
    "\n",
    "\n",
    "print(\"Area with default width:\", calculate_area(10))\")\n",
    "}"
   ]
  },
  {
   "cell_type": "code",
   "execution_count": null,
   "id": "403739f7-83ce-4df6-b399-ad1b734d9d3c",
   "metadata": {},
   "outputs": [],
   "source": []
  },
  {
   "cell_type": "code",
   "execution_count": null,
   "id": "e9e4bfba-3fd7-4a5c-840c-a41ddf1c0e45",
   "metadata": {},
   "outputs": [],
   "source": []
  },
  {
   "cell_type": "code",
   "execution_count": null,
   "id": "649f0414-7097-47be-a0d8-d2ad90840c37",
   "metadata": {},
   "outputs": [],
   "source": []
  }
 ],
 "metadata": {
  "kernelspec": {
   "display_name": "anaconda-2024.02-py310",
   "language": "python",
   "name": "conda-env-anaconda-2024.02-py310-py"
  },
  "language_info": {
   "codemirror_mode": {
    "name": "ipython",
    "version": 3
   },
   "file_extension": ".py",
   "mimetype": "text/x-python",
   "name": "python",
   "nbconvert_exporter": "python",
   "pygments_lexer": "ipython3",
   "version": "3.10.14"
  }
 },
 "nbformat": 4,
 "nbformat_minor": 5
}
